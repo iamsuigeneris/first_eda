{
 "cells": [
  {
   "cell_type": "code",
   "execution_count": 2,
   "id": "90edaeb7",
   "metadata": {},
   "outputs": [],
   "source": [
    "import pandas as pd"
   ]
  },
  {
   "cell_type": "code",
   "execution_count": 166,
   "id": "6112b444",
   "metadata": {},
   "outputs": [],
   "source": [
    "my_data = pd.read_csv('sf_salaries.csv')"
   ]
  },
  {
   "cell_type": "markdown",
   "id": "fb5a3fde",
   "metadata": {},
   "source": [
    "### 1. Display the first 10 rows"
   ]
  },
  {
   "cell_type": "code",
   "execution_count": 11,
   "id": "91061159",
   "metadata": {},
   "outputs": [
    {
     "data": {
      "text/html": [
       "<div>\n",
       "<style scoped>\n",
       "    .dataframe tbody tr th:only-of-type {\n",
       "        vertical-align: middle;\n",
       "    }\n",
       "\n",
       "    .dataframe tbody tr th {\n",
       "        vertical-align: top;\n",
       "    }\n",
       "\n",
       "    .dataframe thead th {\n",
       "        text-align: right;\n",
       "    }\n",
       "</style>\n",
       "<table border=\"1\" class=\"dataframe\">\n",
       "  <thead>\n",
       "    <tr style=\"text-align: right;\">\n",
       "      <th></th>\n",
       "      <th>Id</th>\n",
       "      <th>EmployeeName</th>\n",
       "      <th>JobTitle</th>\n",
       "      <th>BasePay</th>\n",
       "      <th>OvertimePay</th>\n",
       "      <th>OtherPay</th>\n",
       "      <th>Benefits</th>\n",
       "      <th>TotalPay</th>\n",
       "      <th>TotalPayBenefits</th>\n",
       "      <th>Year</th>\n",
       "      <th>Notes</th>\n",
       "      <th>Agency</th>\n",
       "      <th>Status</th>\n",
       "    </tr>\n",
       "  </thead>\n",
       "  <tbody>\n",
       "    <tr>\n",
       "      <th>0</th>\n",
       "      <td>1</td>\n",
       "      <td>NATHANIEL FORD</td>\n",
       "      <td>GENERAL MANAGER-METROPOLITAN TRANSIT AUTHORITY</td>\n",
       "      <td>167411.18</td>\n",
       "      <td>0.0</td>\n",
       "      <td>400184.25</td>\n",
       "      <td>NaN</td>\n",
       "      <td>567595.43</td>\n",
       "      <td>567595.43</td>\n",
       "      <td>2011</td>\n",
       "      <td>NaN</td>\n",
       "      <td>San Francisco</td>\n",
       "      <td>NaN</td>\n",
       "    </tr>\n",
       "    <tr>\n",
       "      <th>1</th>\n",
       "      <td>2</td>\n",
       "      <td>GARY JIMENEZ</td>\n",
       "      <td>CAPTAIN III (POLICE DEPARTMENT)</td>\n",
       "      <td>155966.02</td>\n",
       "      <td>245131.88</td>\n",
       "      <td>137811.38</td>\n",
       "      <td>NaN</td>\n",
       "      <td>538909.28</td>\n",
       "      <td>538909.28</td>\n",
       "      <td>2011</td>\n",
       "      <td>NaN</td>\n",
       "      <td>San Francisco</td>\n",
       "      <td>NaN</td>\n",
       "    </tr>\n",
       "    <tr>\n",
       "      <th>2</th>\n",
       "      <td>3</td>\n",
       "      <td>ALBERT PARDINI</td>\n",
       "      <td>CAPTAIN III (POLICE DEPARTMENT)</td>\n",
       "      <td>212739.13</td>\n",
       "      <td>106088.18</td>\n",
       "      <td>16452.6</td>\n",
       "      <td>NaN</td>\n",
       "      <td>335279.91</td>\n",
       "      <td>335279.91</td>\n",
       "      <td>2011</td>\n",
       "      <td>NaN</td>\n",
       "      <td>San Francisco</td>\n",
       "      <td>NaN</td>\n",
       "    </tr>\n",
       "    <tr>\n",
       "      <th>3</th>\n",
       "      <td>4</td>\n",
       "      <td>CHRISTOPHER CHONG</td>\n",
       "      <td>WIRE ROPE CABLE MAINTENANCE MECHANIC</td>\n",
       "      <td>77916.0</td>\n",
       "      <td>56120.71</td>\n",
       "      <td>198306.9</td>\n",
       "      <td>NaN</td>\n",
       "      <td>332343.61</td>\n",
       "      <td>332343.61</td>\n",
       "      <td>2011</td>\n",
       "      <td>NaN</td>\n",
       "      <td>San Francisco</td>\n",
       "      <td>NaN</td>\n",
       "    </tr>\n",
       "    <tr>\n",
       "      <th>4</th>\n",
       "      <td>5</td>\n",
       "      <td>PATRICK GARDNER</td>\n",
       "      <td>DEPUTY CHIEF OF DEPARTMENT,(FIRE DEPARTMENT)</td>\n",
       "      <td>134401.6</td>\n",
       "      <td>9737.0</td>\n",
       "      <td>182234.59</td>\n",
       "      <td>NaN</td>\n",
       "      <td>326373.19</td>\n",
       "      <td>326373.19</td>\n",
       "      <td>2011</td>\n",
       "      <td>NaN</td>\n",
       "      <td>San Francisco</td>\n",
       "      <td>NaN</td>\n",
       "    </tr>\n",
       "    <tr>\n",
       "      <th>5</th>\n",
       "      <td>6</td>\n",
       "      <td>DAVID SULLIVAN</td>\n",
       "      <td>ASSISTANT DEPUTY CHIEF II</td>\n",
       "      <td>118602.0</td>\n",
       "      <td>8601.0</td>\n",
       "      <td>189082.74</td>\n",
       "      <td>NaN</td>\n",
       "      <td>316285.74</td>\n",
       "      <td>316285.74</td>\n",
       "      <td>2011</td>\n",
       "      <td>NaN</td>\n",
       "      <td>San Francisco</td>\n",
       "      <td>NaN</td>\n",
       "    </tr>\n",
       "    <tr>\n",
       "      <th>6</th>\n",
       "      <td>7</td>\n",
       "      <td>ALSON LEE</td>\n",
       "      <td>BATTALION CHIEF, (FIRE DEPARTMENT)</td>\n",
       "      <td>92492.01</td>\n",
       "      <td>89062.9</td>\n",
       "      <td>134426.14</td>\n",
       "      <td>NaN</td>\n",
       "      <td>315981.05</td>\n",
       "      <td>315981.05</td>\n",
       "      <td>2011</td>\n",
       "      <td>NaN</td>\n",
       "      <td>San Francisco</td>\n",
       "      <td>NaN</td>\n",
       "    </tr>\n",
       "    <tr>\n",
       "      <th>7</th>\n",
       "      <td>8</td>\n",
       "      <td>DAVID KUSHNER</td>\n",
       "      <td>DEPUTY DIRECTOR OF INVESTMENTS</td>\n",
       "      <td>256576.96</td>\n",
       "      <td>0.0</td>\n",
       "      <td>51322.5</td>\n",
       "      <td>NaN</td>\n",
       "      <td>307899.46</td>\n",
       "      <td>307899.46</td>\n",
       "      <td>2011</td>\n",
       "      <td>NaN</td>\n",
       "      <td>San Francisco</td>\n",
       "      <td>NaN</td>\n",
       "    </tr>\n",
       "    <tr>\n",
       "      <th>8</th>\n",
       "      <td>9</td>\n",
       "      <td>MICHAEL MORRIS</td>\n",
       "      <td>BATTALION CHIEF, (FIRE DEPARTMENT)</td>\n",
       "      <td>176932.64</td>\n",
       "      <td>86362.68</td>\n",
       "      <td>40132.23</td>\n",
       "      <td>NaN</td>\n",
       "      <td>303427.55</td>\n",
       "      <td>303427.55</td>\n",
       "      <td>2011</td>\n",
       "      <td>NaN</td>\n",
       "      <td>San Francisco</td>\n",
       "      <td>NaN</td>\n",
       "    </tr>\n",
       "    <tr>\n",
       "      <th>9</th>\n",
       "      <td>10</td>\n",
       "      <td>JOANNE HAYES-WHITE</td>\n",
       "      <td>CHIEF OF DEPARTMENT, (FIRE DEPARTMENT)</td>\n",
       "      <td>285262.0</td>\n",
       "      <td>0.0</td>\n",
       "      <td>17115.73</td>\n",
       "      <td>NaN</td>\n",
       "      <td>302377.73</td>\n",
       "      <td>302377.73</td>\n",
       "      <td>2011</td>\n",
       "      <td>NaN</td>\n",
       "      <td>San Francisco</td>\n",
       "      <td>NaN</td>\n",
       "    </tr>\n",
       "  </tbody>\n",
       "</table>\n",
       "</div>"
      ],
      "text/plain": [
       "   Id        EmployeeName                                        JobTitle  \\\n",
       "0   1      NATHANIEL FORD  GENERAL MANAGER-METROPOLITAN TRANSIT AUTHORITY   \n",
       "1   2        GARY JIMENEZ                 CAPTAIN III (POLICE DEPARTMENT)   \n",
       "2   3      ALBERT PARDINI                 CAPTAIN III (POLICE DEPARTMENT)   \n",
       "3   4   CHRISTOPHER CHONG            WIRE ROPE CABLE MAINTENANCE MECHANIC   \n",
       "4   5     PATRICK GARDNER    DEPUTY CHIEF OF DEPARTMENT,(FIRE DEPARTMENT)   \n",
       "5   6      DAVID SULLIVAN                       ASSISTANT DEPUTY CHIEF II   \n",
       "6   7           ALSON LEE              BATTALION CHIEF, (FIRE DEPARTMENT)   \n",
       "7   8       DAVID KUSHNER                  DEPUTY DIRECTOR OF INVESTMENTS   \n",
       "8   9      MICHAEL MORRIS              BATTALION CHIEF, (FIRE DEPARTMENT)   \n",
       "9  10  JOANNE HAYES-WHITE          CHIEF OF DEPARTMENT, (FIRE DEPARTMENT)   \n",
       "\n",
       "     BasePay OvertimePay   OtherPay Benefits   TotalPay  TotalPayBenefits  \\\n",
       "0  167411.18         0.0  400184.25      NaN  567595.43         567595.43   \n",
       "1  155966.02   245131.88  137811.38      NaN  538909.28         538909.28   \n",
       "2  212739.13   106088.18    16452.6      NaN  335279.91         335279.91   \n",
       "3    77916.0    56120.71   198306.9      NaN  332343.61         332343.61   \n",
       "4   134401.6      9737.0  182234.59      NaN  326373.19         326373.19   \n",
       "5   118602.0      8601.0  189082.74      NaN  316285.74         316285.74   \n",
       "6   92492.01     89062.9  134426.14      NaN  315981.05         315981.05   \n",
       "7  256576.96         0.0    51322.5      NaN  307899.46         307899.46   \n",
       "8  176932.64    86362.68   40132.23      NaN  303427.55         303427.55   \n",
       "9   285262.0         0.0   17115.73      NaN  302377.73         302377.73   \n",
       "\n",
       "   Year  Notes         Agency Status  \n",
       "0  2011    NaN  San Francisco    NaN  \n",
       "1  2011    NaN  San Francisco    NaN  \n",
       "2  2011    NaN  San Francisco    NaN  \n",
       "3  2011    NaN  San Francisco    NaN  \n",
       "4  2011    NaN  San Francisco    NaN  \n",
       "5  2011    NaN  San Francisco    NaN  \n",
       "6  2011    NaN  San Francisco    NaN  \n",
       "7  2011    NaN  San Francisco    NaN  \n",
       "8  2011    NaN  San Francisco    NaN  \n",
       "9  2011    NaN  San Francisco    NaN  "
      ]
     },
     "execution_count": 11,
     "metadata": {},
     "output_type": "execute_result"
    }
   ],
   "source": [
    "# To display the first 5 rows, use head method and to display the last 5 rows, use tail method\n",
    "my_data.head(10)"
   ]
  },
  {
   "cell_type": "markdown",
   "id": "544d29b5",
   "metadata": {},
   "source": [
    "### 2. Display total numbers of the rows and Columns"
   ]
  },
  {
   "cell_type": "code",
   "execution_count": 12,
   "id": "9a680c0f",
   "metadata": {},
   "outputs": [
    {
     "data": {
      "text/plain": [
       "(148654, 13)"
      ]
     },
     "execution_count": 12,
     "metadata": {},
     "output_type": "execute_result"
    }
   ],
   "source": [
    "### 2. To find the numbers of rows and columns, use shape attribute of the dataframe\n",
    "my_data.shape"
   ]
  },
  {
   "cell_type": "markdown",
   "id": "13041f54",
   "metadata": {},
   "source": [
    "### 3. Checking information about the dataset"
   ]
  },
  {
   "cell_type": "code",
   "execution_count": 17,
   "id": "455bbd5f",
   "metadata": {},
   "outputs": [
    {
     "name": "stdout",
     "output_type": "stream",
     "text": [
      "<class 'pandas.core.frame.DataFrame'>\n",
      "RangeIndex: 148654 entries, 0 to 148653\n",
      "Data columns (total 13 columns):\n",
      " #   Column            Non-Null Count   Dtype  \n",
      "---  ------            --------------   -----  \n",
      " 0   Id                148654 non-null  int64  \n",
      " 1   EmployeeName      148654 non-null  object \n",
      " 2   JobTitle          148654 non-null  object \n",
      " 3   BasePay           148049 non-null  object \n",
      " 4   OvertimePay       148654 non-null  object \n",
      " 5   OtherPay          148654 non-null  object \n",
      " 6   Benefits          112495 non-null  object \n",
      " 7   TotalPay          148654 non-null  float64\n",
      " 8   TotalPayBenefits  148654 non-null  float64\n",
      " 9   Year              148654 non-null  int64  \n",
      " 10  Notes             0 non-null       float64\n",
      " 11  Agency            148654 non-null  object \n",
      " 12  Status            38119 non-null   object \n",
      "dtypes: float64(3), int64(2), object(8)\n",
      "memory usage: 14.7+ MB\n"
     ]
    }
   ],
   "source": [
    "# use df.info() method to get information about the dataset\n",
    "my_data.info()"
   ]
  },
  {
   "cell_type": "markdown",
   "id": "1ba9d5f1",
   "metadata": {},
   "source": [
    "### 4.Check null values in the Dataset"
   ]
  },
  {
   "cell_type": "code",
   "execution_count": 28,
   "id": "eba12ad2",
   "metadata": {},
   "outputs": [
    {
     "data": {
      "text/plain": [
       "Id                       0\n",
       "EmployeeName             0\n",
       "JobTitle                 0\n",
       "BasePay                605\n",
       "OvertimePay              0\n",
       "OtherPay                 0\n",
       "Benefits             36159\n",
       "TotalPay                 0\n",
       "TotalPayBenefits         0\n",
       "Year                     0\n",
       "Notes               148654\n",
       "Agency                   0\n",
       "Status              110535\n",
       "dtype: int64"
      ]
     },
     "execution_count": 28,
     "metadata": {},
     "output_type": "execute_result"
    }
   ],
   "source": [
    "my_data.isnull().sum()"
   ]
  },
  {
   "cell_type": "markdown",
   "id": "62fbc461",
   "metadata": {},
   "source": [
    "### 5. Drop ID,Notes,Agency, Status Columns"
   ]
  },
  {
   "cell_type": "code",
   "execution_count": 31,
   "id": "f60c71e0",
   "metadata": {},
   "outputs": [
    {
     "data": {
      "text/plain": [
       "Index(['Id', 'EmployeeName', 'JobTitle', 'BasePay', 'OvertimePay', 'OtherPay',\n",
       "       'Benefits', 'TotalPay', 'TotalPayBenefits', 'Year', 'Notes', 'Agency',\n",
       "       'Status'],\n",
       "      dtype='object')"
      ]
     },
     "execution_count": 31,
     "metadata": {},
     "output_type": "execute_result"
    }
   ],
   "source": [
    "my_data.columns"
   ]
  },
  {
   "cell_type": "code",
   "execution_count": 32,
   "id": "1865a039",
   "metadata": {},
   "outputs": [],
   "source": [
    "data = my_data.drop(['Id','Notes','Agency','Status'], axis=1)"
   ]
  },
  {
   "cell_type": "code",
   "execution_count": 40,
   "id": "5048e93c",
   "metadata": {},
   "outputs": [
    {
     "data": {
      "text/plain": [
       "Index(['EmployeeName', 'JobTitle', 'BasePay', 'OvertimePay', 'OtherPay',\n",
       "       'Benefits', 'TotalPay', 'TotalPayBenefits', 'Year'],\n",
       "      dtype='object')"
      ]
     },
     "execution_count": 40,
     "metadata": {},
     "output_type": "execute_result"
    }
   ],
   "source": [
    "data.columns"
   ]
  },
  {
   "cell_type": "markdown",
   "id": "cd53b6f1",
   "metadata": {},
   "source": [
    "### 6. Get overall statistics of the dataset"
   ]
  },
  {
   "cell_type": "code",
   "execution_count": 42,
   "id": "ebfff4a9",
   "metadata": {},
   "outputs": [
    {
     "data": {
      "text/html": [
       "<div>\n",
       "<style scoped>\n",
       "    .dataframe tbody tr th:only-of-type {\n",
       "        vertical-align: middle;\n",
       "    }\n",
       "\n",
       "    .dataframe tbody tr th {\n",
       "        vertical-align: top;\n",
       "    }\n",
       "\n",
       "    .dataframe thead th {\n",
       "        text-align: right;\n",
       "    }\n",
       "</style>\n",
       "<table border=\"1\" class=\"dataframe\">\n",
       "  <thead>\n",
       "    <tr style=\"text-align: right;\">\n",
       "      <th></th>\n",
       "      <th>EmployeeName</th>\n",
       "      <th>JobTitle</th>\n",
       "      <th>BasePay</th>\n",
       "      <th>OvertimePay</th>\n",
       "      <th>OtherPay</th>\n",
       "      <th>Benefits</th>\n",
       "      <th>TotalPay</th>\n",
       "      <th>TotalPayBenefits</th>\n",
       "      <th>Year</th>\n",
       "    </tr>\n",
       "  </thead>\n",
       "  <tbody>\n",
       "    <tr>\n",
       "      <th>count</th>\n",
       "      <td>148654</td>\n",
       "      <td>148654</td>\n",
       "      <td>148049.0</td>\n",
       "      <td>148654.0</td>\n",
       "      <td>148654.0</td>\n",
       "      <td>112495.0</td>\n",
       "      <td>148654.000000</td>\n",
       "      <td>148654.000000</td>\n",
       "      <td>148654.000000</td>\n",
       "    </tr>\n",
       "    <tr>\n",
       "      <th>unique</th>\n",
       "      <td>110811</td>\n",
       "      <td>2159</td>\n",
       "      <td>109900.0</td>\n",
       "      <td>66555.0</td>\n",
       "      <td>84968.0</td>\n",
       "      <td>99635.0</td>\n",
       "      <td>NaN</td>\n",
       "      <td>NaN</td>\n",
       "      <td>NaN</td>\n",
       "    </tr>\n",
       "    <tr>\n",
       "      <th>top</th>\n",
       "      <td>Kevin Lee</td>\n",
       "      <td>Transit Operator</td>\n",
       "      <td>0.0</td>\n",
       "      <td>0.0</td>\n",
       "      <td>0.0</td>\n",
       "      <td>0.0</td>\n",
       "      <td>NaN</td>\n",
       "      <td>NaN</td>\n",
       "      <td>NaN</td>\n",
       "    </tr>\n",
       "    <tr>\n",
       "      <th>freq</th>\n",
       "      <td>13</td>\n",
       "      <td>7036</td>\n",
       "      <td>875.0</td>\n",
       "      <td>66103.0</td>\n",
       "      <td>35218.0</td>\n",
       "      <td>1053.0</td>\n",
       "      <td>NaN</td>\n",
       "      <td>NaN</td>\n",
       "      <td>NaN</td>\n",
       "    </tr>\n",
       "    <tr>\n",
       "      <th>mean</th>\n",
       "      <td>NaN</td>\n",
       "      <td>NaN</td>\n",
       "      <td>NaN</td>\n",
       "      <td>NaN</td>\n",
       "      <td>NaN</td>\n",
       "      <td>NaN</td>\n",
       "      <td>74768.321972</td>\n",
       "      <td>93692.554811</td>\n",
       "      <td>2012.522643</td>\n",
       "    </tr>\n",
       "    <tr>\n",
       "      <th>std</th>\n",
       "      <td>NaN</td>\n",
       "      <td>NaN</td>\n",
       "      <td>NaN</td>\n",
       "      <td>NaN</td>\n",
       "      <td>NaN</td>\n",
       "      <td>NaN</td>\n",
       "      <td>50517.005274</td>\n",
       "      <td>62793.533483</td>\n",
       "      <td>1.117538</td>\n",
       "    </tr>\n",
       "    <tr>\n",
       "      <th>min</th>\n",
       "      <td>NaN</td>\n",
       "      <td>NaN</td>\n",
       "      <td>NaN</td>\n",
       "      <td>NaN</td>\n",
       "      <td>NaN</td>\n",
       "      <td>NaN</td>\n",
       "      <td>-618.130000</td>\n",
       "      <td>-618.130000</td>\n",
       "      <td>2011.000000</td>\n",
       "    </tr>\n",
       "    <tr>\n",
       "      <th>25%</th>\n",
       "      <td>NaN</td>\n",
       "      <td>NaN</td>\n",
       "      <td>NaN</td>\n",
       "      <td>NaN</td>\n",
       "      <td>NaN</td>\n",
       "      <td>NaN</td>\n",
       "      <td>36168.995000</td>\n",
       "      <td>44065.650000</td>\n",
       "      <td>2012.000000</td>\n",
       "    </tr>\n",
       "    <tr>\n",
       "      <th>50%</th>\n",
       "      <td>NaN</td>\n",
       "      <td>NaN</td>\n",
       "      <td>NaN</td>\n",
       "      <td>NaN</td>\n",
       "      <td>NaN</td>\n",
       "      <td>NaN</td>\n",
       "      <td>71426.610000</td>\n",
       "      <td>92404.090000</td>\n",
       "      <td>2013.000000</td>\n",
       "    </tr>\n",
       "    <tr>\n",
       "      <th>75%</th>\n",
       "      <td>NaN</td>\n",
       "      <td>NaN</td>\n",
       "      <td>NaN</td>\n",
       "      <td>NaN</td>\n",
       "      <td>NaN</td>\n",
       "      <td>NaN</td>\n",
       "      <td>105839.135000</td>\n",
       "      <td>132876.450000</td>\n",
       "      <td>2014.000000</td>\n",
       "    </tr>\n",
       "    <tr>\n",
       "      <th>max</th>\n",
       "      <td>NaN</td>\n",
       "      <td>NaN</td>\n",
       "      <td>NaN</td>\n",
       "      <td>NaN</td>\n",
       "      <td>NaN</td>\n",
       "      <td>NaN</td>\n",
       "      <td>567595.430000</td>\n",
       "      <td>567595.430000</td>\n",
       "      <td>2014.000000</td>\n",
       "    </tr>\n",
       "  </tbody>\n",
       "</table>\n",
       "</div>"
      ],
      "text/plain": [
       "       EmployeeName          JobTitle   BasePay  OvertimePay  OtherPay  \\\n",
       "count        148654            148654  148049.0     148654.0  148654.0   \n",
       "unique       110811              2159  109900.0      66555.0   84968.0   \n",
       "top       Kevin Lee  Transit Operator       0.0          0.0       0.0   \n",
       "freq             13              7036     875.0      66103.0   35218.0   \n",
       "mean            NaN               NaN       NaN          NaN       NaN   \n",
       "std             NaN               NaN       NaN          NaN       NaN   \n",
       "min             NaN               NaN       NaN          NaN       NaN   \n",
       "25%             NaN               NaN       NaN          NaN       NaN   \n",
       "50%             NaN               NaN       NaN          NaN       NaN   \n",
       "75%             NaN               NaN       NaN          NaN       NaN   \n",
       "max             NaN               NaN       NaN          NaN       NaN   \n",
       "\n",
       "        Benefits       TotalPay  TotalPayBenefits           Year  \n",
       "count   112495.0  148654.000000     148654.000000  148654.000000  \n",
       "unique   99635.0            NaN               NaN            NaN  \n",
       "top          0.0            NaN               NaN            NaN  \n",
       "freq      1053.0            NaN               NaN            NaN  \n",
       "mean         NaN   74768.321972      93692.554811    2012.522643  \n",
       "std          NaN   50517.005274      62793.533483       1.117538  \n",
       "min          NaN    -618.130000       -618.130000    2011.000000  \n",
       "25%          NaN   36168.995000      44065.650000    2012.000000  \n",
       "50%          NaN   71426.610000      92404.090000    2013.000000  \n",
       "75%          NaN  105839.135000     132876.450000    2014.000000  \n",
       "max          NaN  567595.430000     567595.430000    2014.000000  "
      ]
     },
     "execution_count": 42,
     "metadata": {},
     "output_type": "execute_result"
    }
   ],
   "source": [
    "data.describe(include='all')"
   ]
  },
  {
   "cell_type": "markdown",
   "id": "abe2e50d",
   "metadata": {},
   "source": [
    "### 7. Find the occurence of employee names"
   ]
  },
  {
   "cell_type": "code",
   "execution_count": 58,
   "id": "dd25c5cf",
   "metadata": {},
   "outputs": [
    {
     "data": {
      "text/plain": [
       "Kevin Lee       13\n",
       "William Wong    11\n",
       "Richard Lee     11\n",
       "Steven Lee      11\n",
       "John Chan        9\n",
       "Name: EmployeeName, dtype: int64"
      ]
     },
     "execution_count": 58,
     "metadata": {},
     "output_type": "execute_result"
    }
   ],
   "source": [
    "my_data['EmployeeName'].value_counts().head()"
   ]
  },
  {
   "cell_type": "markdown",
   "id": "cc3e4397",
   "metadata": {},
   "source": [
    "### 8. Find the number of unique job title"
   ]
  },
  {
   "cell_type": "code",
   "execution_count": 67,
   "id": "0eb424af",
   "metadata": {},
   "outputs": [
    {
     "data": {
      "text/plain": [
       "2159"
      ]
     },
     "execution_count": 67,
     "metadata": {},
     "output_type": "execute_result"
    }
   ],
   "source": [
    "# To count the numbers of unique value we use NUNIQUE METHOD\n",
    "my_data['JobTitle'].nunique()"
   ]
  },
  {
   "cell_type": "markdown",
   "id": "505d7361",
   "metadata": {},
   "source": [
    "### 9. Find the total numbers of job title that contain 'Captain'"
   ]
  },
  {
   "cell_type": "code",
   "execution_count": 85,
   "id": "5266051b",
   "metadata": {},
   "outputs": [
    {
     "data": {
      "text/plain": [
       "552"
      ]
     },
     "execution_count": 85,
     "metadata": {},
     "output_type": "execute_result"
    }
   ],
   "source": [
    "len(my_data[my_data['JobTitle'].str.contains('Captain', case=False)])"
   ]
  },
  {
   "cell_type": "markdown",
   "id": "9683ab73",
   "metadata": {},
   "source": [
    "### 10. Display all employees names from Fire Department"
   ]
  },
  {
   "cell_type": "code",
   "execution_count": 100,
   "id": "c9c7d47f",
   "metadata": {},
   "outputs": [
    {
     "data": {
      "text/plain": [
       "4            PATRICK GARDNER\n",
       "6                  ALSON LEE\n",
       "8             MICHAEL MORRIS\n",
       "9         JOANNE HAYES-WHITE\n",
       "10             ARTHUR KENNEY\n",
       "                 ...        \n",
       "145956      Kenneth C Farris\n",
       "147556         Edward A Dunn\n",
       "148021        Kari A Johnson\n",
       "148209          Sheryl K Lee\n",
       "148554       Lawrence F Gatt\n",
       "Name: EmployeeName, Length: 5879, dtype: object"
      ]
     },
     "execution_count": 100,
     "metadata": {},
     "output_type": "execute_result"
    }
   ],
   "source": [
    "my_data[my_data['JobTitle'].str.contains('FIRE', case=False)]['EmployeeName']"
   ]
  },
  {
   "cell_type": "markdown",
   "id": "a01f6b9b",
   "metadata": {},
   "source": [
    "### 11. Find Minimum,Maximum and Average BasePay"
   ]
  },
  {
   "cell_type": "code",
   "execution_count": 124,
   "id": "97a2df58",
   "metadata": {},
   "outputs": [
    {
     "data": {
      "text/plain": [
       "count     148049.0\n",
       "unique    109900.0\n",
       "top            0.0\n",
       "freq         875.0\n",
       "Name: BasePay, dtype: float64"
      ]
     },
     "execution_count": 124,
     "metadata": {},
     "output_type": "execute_result"
    }
   ],
   "source": [
    "my_data['BasePay'].describe()"
   ]
  },
  {
   "cell_type": "markdown",
   "id": "2ebb197b",
   "metadata": {},
   "source": [
    "### 12. Replace Not Provided in Employee column to NaN"
   ]
  },
  {
   "cell_type": "code",
   "execution_count": 129,
   "id": "0b53a1b3",
   "metadata": {},
   "outputs": [],
   "source": [
    "import numpy as np\n",
    "my_data['EmployeeName']  = my_data['EmployeeName'].replace('Not provided',np.nan)"
   ]
  },
  {
   "cell_type": "code",
   "execution_count": 130,
   "id": "8a555d5d",
   "metadata": {},
   "outputs": [
    {
     "data": {
      "text/plain": [
       "0            NATHANIEL FORD\n",
       "1              GARY JIMENEZ\n",
       "2            ALBERT PARDINI\n",
       "3         CHRISTOPHER CHONG\n",
       "4           PATRICK GARDNER\n",
       "                ...        \n",
       "148649        Roy I Tillery\n",
       "148650                  NaN\n",
       "148651                  NaN\n",
       "148652                  NaN\n",
       "148653            Joe Lopez\n",
       "Name: EmployeeName, Length: 148654, dtype: object"
      ]
     },
     "execution_count": 130,
     "metadata": {},
     "output_type": "execute_result"
    }
   ],
   "source": [
    "my_data['EmployeeName']"
   ]
  },
  {
   "cell_type": "markdown",
   "id": "fcf3f75e",
   "metadata": {},
   "source": [
    "### 13. Drop the Rows having 5 missing values"
   ]
  },
  {
   "cell_type": "code",
   "execution_count": 173,
   "id": "e97e03e6",
   "metadata": {},
   "outputs": [],
   "source": [
    "# To make the changes permanent, use inplace=True\n",
    "my_data.drop(my_data[my_data.isnull().sum(axis=1)==5].index,axis=0,inplace=True)\n",
    "my_data.drop(my_data[my_data.isnull().sum(axis=1)==5].index,axis=0,inplace=True)"
   ]
  },
  {
   "cell_type": "code",
   "execution_count": 174,
   "id": "f7cb48db",
   "metadata": {},
   "outputs": [
    {
     "data": {
      "text/plain": [
       "0         3\n",
       "1         3\n",
       "2         3\n",
       "3         3\n",
       "4         3\n",
       "         ..\n",
       "148649    1\n",
       "148650    2\n",
       "148651    2\n",
       "148652    2\n",
       "148653    1\n",
       "Length: 148654, dtype: int64"
      ]
     },
     "execution_count": 174,
     "metadata": {},
     "output_type": "execute_result"
    }
   ],
   "source": [
    "my_data.isnull().sum(axis=1)"
   ]
  },
  {
   "cell_type": "code",
   "execution_count": 175,
   "id": "9f142b71",
   "metadata": {},
   "outputs": [],
   "source": [
    "data.drop(data[data.isnull().sum(axis=1)==5].index,axis=0,inplace=True)"
   ]
  },
  {
   "cell_type": "code",
   "execution_count": 176,
   "id": "4fae06fb",
   "metadata": {},
   "outputs": [
    {
     "data": {
      "text/plain": [
       "0         1\n",
       "1         1\n",
       "2         1\n",
       "3         1\n",
       "4         1\n",
       "         ..\n",
       "148649    0\n",
       "148650    0\n",
       "148651    0\n",
       "148652    0\n",
       "148653    0\n",
       "Length: 148654, dtype: int64"
      ]
     },
     "execution_count": 176,
     "metadata": {},
     "output_type": "execute_result"
    }
   ],
   "source": [
    "data.isnull().sum(axis=1)"
   ]
  },
  {
   "cell_type": "markdown",
   "id": "4219e73f",
   "metadata": {},
   "source": [
    "### 14. Find the job title of ALBERT PARDINI"
   ]
  },
  {
   "cell_type": "code",
   "execution_count": 177,
   "id": "f978590e",
   "metadata": {},
   "outputs": [
    {
     "data": {
      "text/plain": [
       "Index(['EmployeeName', 'JobTitle', 'BasePay', 'OvertimePay', 'OtherPay',\n",
       "       'Benefits', 'TotalPay', 'TotalPayBenefits', 'Year'],\n",
       "      dtype='object')"
      ]
     },
     "execution_count": 177,
     "metadata": {},
     "output_type": "execute_result"
    }
   ],
   "source": [
    "data.columns"
   ]
  },
  {
   "cell_type": "code",
   "execution_count": 185,
   "id": "18bf7d06",
   "metadata": {},
   "outputs": [
    {
     "data": {
      "text/html": [
       "<div>\n",
       "<style scoped>\n",
       "    .dataframe tbody tr th:only-of-type {\n",
       "        vertical-align: middle;\n",
       "    }\n",
       "\n",
       "    .dataframe tbody tr th {\n",
       "        vertical-align: top;\n",
       "    }\n",
       "\n",
       "    .dataframe thead th {\n",
       "        text-align: right;\n",
       "    }\n",
       "</style>\n",
       "<table border=\"1\" class=\"dataframe\">\n",
       "  <thead>\n",
       "    <tr style=\"text-align: right;\">\n",
       "      <th></th>\n",
       "      <th>EmployeeName</th>\n",
       "      <th>JobTitle</th>\n",
       "      <th>BasePay</th>\n",
       "      <th>OvertimePay</th>\n",
       "      <th>OtherPay</th>\n",
       "      <th>Benefits</th>\n",
       "      <th>TotalPay</th>\n",
       "      <th>TotalPayBenefits</th>\n",
       "      <th>Year</th>\n",
       "    </tr>\n",
       "  </thead>\n",
       "  <tbody>\n",
       "    <tr>\n",
       "      <th>2</th>\n",
       "      <td>ALBERT PARDINI</td>\n",
       "      <td>CAPTAIN III (POLICE DEPARTMENT)</td>\n",
       "      <td>212739.13</td>\n",
       "      <td>106088.18</td>\n",
       "      <td>16452.6</td>\n",
       "      <td>NaN</td>\n",
       "      <td>335279.91</td>\n",
       "      <td>335279.91</td>\n",
       "      <td>2011</td>\n",
       "    </tr>\n",
       "    <tr>\n",
       "      <th>36519</th>\n",
       "      <td>Albert Pardini</td>\n",
       "      <td>Captain 3</td>\n",
       "      <td>196265.04</td>\n",
       "      <td>0.0</td>\n",
       "      <td>11404.04</td>\n",
       "      <td>46326.21</td>\n",
       "      <td>207669.08</td>\n",
       "      <td>253995.29</td>\n",
       "      <td>2012</td>\n",
       "    </tr>\n",
       "  </tbody>\n",
       "</table>\n",
       "</div>"
      ],
      "text/plain": [
       "         EmployeeName                         JobTitle    BasePay OvertimePay  \\\n",
       "2      ALBERT PARDINI  CAPTAIN III (POLICE DEPARTMENT)  212739.13   106088.18   \n",
       "36519  Albert Pardini                        Captain 3  196265.04         0.0   \n",
       "\n",
       "       OtherPay  Benefits   TotalPay  TotalPayBenefits  Year  \n",
       "2       16452.6       NaN  335279.91         335279.91  2011  \n",
       "36519  11404.04  46326.21  207669.08         253995.29  2012  "
      ]
     },
     "execution_count": 185,
     "metadata": {},
     "output_type": "execute_result"
    }
   ],
   "source": [
    "data[data['EmployeeName'].str.contains('ALBERT PARDINI',case=False)]"
   ]
  },
  {
   "cell_type": "code",
   "execution_count": 183,
   "id": "2fce3d71",
   "metadata": {},
   "outputs": [
    {
     "data": {
      "text/plain": [
       "2        CAPTAIN III (POLICE DEPARTMENT)\n",
       "36519                          Captain 3\n",
       "Name: JobTitle, dtype: object"
      ]
     },
     "execution_count": 183,
     "metadata": {},
     "output_type": "execute_result"
    }
   ],
   "source": [
    "data[data['EmployeeName'].str.contains('ALBERT PARDINI',case=False)]['JobTitle']"
   ]
  },
  {
   "cell_type": "markdown",
   "id": "85c2d141",
   "metadata": {},
   "source": [
    "### 15. How much does Albert Pardini make?(incude benefit)"
   ]
  },
  {
   "cell_type": "code",
   "execution_count": 188,
   "id": "435d391a",
   "metadata": {},
   "outputs": [
    {
     "data": {
      "text/plain": [
       "2    335279.91\n",
       "Name: TotalPayBenefits, dtype: float64"
      ]
     },
     "execution_count": 188,
     "metadata": {},
     "output_type": "execute_result"
    }
   ],
   "source": [
    "data[data['EmployeeName']=='ALBERT PARDINI']['TotalPayBenefits']"
   ]
  },
  {
   "cell_type": "markdown",
   "id": "116e7cf1",
   "metadata": {},
   "source": [
    "### 16. Display the name of the person having the highest basepay"
   ]
  },
  {
   "cell_type": "code",
   "execution_count": 225,
   "id": "444fcbc3",
   "metadata": {},
   "outputs": [
    {
     "data": {
      "text/plain": [
       "0         167411.18\n",
       "1         155966.02\n",
       "2         212739.13\n",
       "3           77916.0\n",
       "4          134401.6\n",
       "            ...    \n",
       "148649         0.00\n",
       "148650            0\n",
       "148651            0\n",
       "148652            0\n",
       "148653         0.00\n",
       "Name: BasePay, Length: 148654, dtype: object"
      ]
     },
     "execution_count": 225,
     "metadata": {},
     "output_type": "execute_result"
    }
   ],
   "source": [
    "#my_data[my_data['BasePay'].max()==my_data['BasePay']]['EmployeeName']"
   ]
  },
  {
   "cell_type": "markdown",
   "id": "0d7e1ef1",
   "metadata": {},
   "source": [
    "### 17. Find average Basepay for each year"
   ]
  },
  {
   "cell_type": "code",
   "execution_count": 237,
   "id": "38d6130e",
   "metadata": {},
   "outputs": [
    {
     "data": {
      "text/plain": [
       "dtype('O')"
      ]
     },
     "execution_count": 237,
     "metadata": {},
     "output_type": "execute_result"
    }
   ],
   "source": [
    "### my_data.groupby('Year').mean()['BasePay']\n",
    "my_data['BasePay'].dtypes"
   ]
  },
  {
   "cell_type": "markdown",
   "id": "e523550b",
   "metadata": {},
   "source": [
    "### I cant work on the rest of the questions because the datatype of BasePay column"
   ]
  },
  {
   "cell_type": "code",
   "execution_count": null,
   "id": "e75a111b",
   "metadata": {},
   "outputs": [],
   "source": []
  }
 ],
 "metadata": {
  "kernelspec": {
   "display_name": "Python 3",
   "language": "python",
   "name": "python3"
  },
  "language_info": {
   "codemirror_mode": {
    "name": "ipython",
    "version": 3
   },
   "file_extension": ".py",
   "mimetype": "text/x-python",
   "name": "python",
   "nbconvert_exporter": "python",
   "pygments_lexer": "ipython3",
   "version": "3.8.8"
  }
 },
 "nbformat": 4,
 "nbformat_minor": 5
}
