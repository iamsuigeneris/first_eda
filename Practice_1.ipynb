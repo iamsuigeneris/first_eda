{
 "cells": [
  {
   "cell_type": "code",
   "execution_count": 1,
   "id": "fa631dba",
   "metadata": {},
   "outputs": [],
   "source": [
    "import pandas as pd"
   ]
  },
  {
   "cell_type": "code",
   "execution_count": 20,
   "id": "de3cbda6",
   "metadata": {},
   "outputs": [
    {
     "data": {
      "text/html": [
       "<div>\n",
       "<style scoped>\n",
       "    .dataframe tbody tr th:only-of-type {\n",
       "        vertical-align: middle;\n",
       "    }\n",
       "\n",
       "    .dataframe tbody tr th {\n",
       "        vertical-align: top;\n",
       "    }\n",
       "\n",
       "    .dataframe thead th {\n",
       "        text-align: right;\n",
       "    }\n",
       "</style>\n",
       "<table border=\"1\" class=\"dataframe\">\n",
       "  <thead>\n",
       "    <tr style=\"text-align: right;\">\n",
       "      <th></th>\n",
       "      <th>Address</th>\n",
       "      <th>Lot</th>\n",
       "      <th>AM or PM</th>\n",
       "      <th>Browser Info</th>\n",
       "      <th>Company</th>\n",
       "      <th>Credit Card</th>\n",
       "      <th>CC Exp Date</th>\n",
       "      <th>CC Security Code</th>\n",
       "      <th>CC Provider</th>\n",
       "      <th>Email</th>\n",
       "      <th>Job</th>\n",
       "      <th>IP Address</th>\n",
       "      <th>Language</th>\n",
       "      <th>Purchase Price</th>\n",
       "    </tr>\n",
       "  </thead>\n",
       "  <tbody>\n",
       "    <tr>\n",
       "      <th>0</th>\n",
       "      <td>16629 Pace Camp Apt. 448\\nAlexisborough, NE 77...</td>\n",
       "      <td>46 in</td>\n",
       "      <td>PM</td>\n",
       "      <td>Opera/9.56.(X11; Linux x86_64; sl-SI) Presto/2...</td>\n",
       "      <td>Martinez-Herman</td>\n",
       "      <td>6011929061123406</td>\n",
       "      <td>02/20</td>\n",
       "      <td>900</td>\n",
       "      <td>JCB 16 digit</td>\n",
       "      <td>pdunlap@yahoo.com</td>\n",
       "      <td>Scientist, product/process development</td>\n",
       "      <td>149.146.147.205</td>\n",
       "      <td>el</td>\n",
       "      <td>98.14</td>\n",
       "    </tr>\n",
       "    <tr>\n",
       "      <th>1</th>\n",
       "      <td>9374 Jasmine Spurs Suite 508\\nSouth John, TN 8...</td>\n",
       "      <td>28 rn</td>\n",
       "      <td>PM</td>\n",
       "      <td>Opera/8.93.(Windows 98; Win 9x 4.90; en-US) Pr...</td>\n",
       "      <td>Fletcher, Richards and Whitaker</td>\n",
       "      <td>3337758169645356</td>\n",
       "      <td>11/18</td>\n",
       "      <td>561</td>\n",
       "      <td>Mastercard</td>\n",
       "      <td>anthony41@reed.com</td>\n",
       "      <td>Drilling engineer</td>\n",
       "      <td>15.160.41.51</td>\n",
       "      <td>fr</td>\n",
       "      <td>70.73</td>\n",
       "    </tr>\n",
       "    <tr>\n",
       "      <th>2</th>\n",
       "      <td>Unit 0065 Box 5052\\nDPO AP 27450</td>\n",
       "      <td>94 vE</td>\n",
       "      <td>PM</td>\n",
       "      <td>Mozilla/5.0 (compatible; MSIE 9.0; Windows NT ...</td>\n",
       "      <td>Simpson, Williams and Pham</td>\n",
       "      <td>675957666125</td>\n",
       "      <td>08/19</td>\n",
       "      <td>699</td>\n",
       "      <td>JCB 16 digit</td>\n",
       "      <td>amymiller@morales-harrison.com</td>\n",
       "      <td>Customer service manager</td>\n",
       "      <td>132.207.160.22</td>\n",
       "      <td>de</td>\n",
       "      <td>0.95</td>\n",
       "    </tr>\n",
       "    <tr>\n",
       "      <th>3</th>\n",
       "      <td>7780 Julia Fords\\nNew Stacy, WA 45798</td>\n",
       "      <td>36 vm</td>\n",
       "      <td>PM</td>\n",
       "      <td>Mozilla/5.0 (Macintosh; Intel Mac OS X 10_8_0 ...</td>\n",
       "      <td>Williams, Marshall and Buchanan</td>\n",
       "      <td>6011578504430710</td>\n",
       "      <td>02/24</td>\n",
       "      <td>384</td>\n",
       "      <td>Discover</td>\n",
       "      <td>brent16@olson-robinson.info</td>\n",
       "      <td>Drilling engineer</td>\n",
       "      <td>30.250.74.19</td>\n",
       "      <td>es</td>\n",
       "      <td>78.04</td>\n",
       "    </tr>\n",
       "    <tr>\n",
       "      <th>4</th>\n",
       "      <td>23012 Munoz Drive Suite 337\\nNew Cynthia, TX 5...</td>\n",
       "      <td>20 IE</td>\n",
       "      <td>AM</td>\n",
       "      <td>Opera/9.58.(X11; Linux x86_64; it-IT) Presto/2...</td>\n",
       "      <td>Brown, Watson and Andrews</td>\n",
       "      <td>6011456623207998</td>\n",
       "      <td>10/25</td>\n",
       "      <td>678</td>\n",
       "      <td>Diners Club / Carte Blanche</td>\n",
       "      <td>christopherwright@gmail.com</td>\n",
       "      <td>Fine artist</td>\n",
       "      <td>24.140.33.94</td>\n",
       "      <td>es</td>\n",
       "      <td>77.82</td>\n",
       "    </tr>\n",
       "  </tbody>\n",
       "</table>\n",
       "</div>"
      ],
      "text/plain": [
       "                                             Address    Lot AM or PM  \\\n",
       "0  16629 Pace Camp Apt. 448\\nAlexisborough, NE 77...  46 in       PM   \n",
       "1  9374 Jasmine Spurs Suite 508\\nSouth John, TN 8...  28 rn       PM   \n",
       "2                   Unit 0065 Box 5052\\nDPO AP 27450  94 vE       PM   \n",
       "3              7780 Julia Fords\\nNew Stacy, WA 45798  36 vm       PM   \n",
       "4  23012 Munoz Drive Suite 337\\nNew Cynthia, TX 5...  20 IE       AM   \n",
       "\n",
       "                                        Browser Info  \\\n",
       "0  Opera/9.56.(X11; Linux x86_64; sl-SI) Presto/2...   \n",
       "1  Opera/8.93.(Windows 98; Win 9x 4.90; en-US) Pr...   \n",
       "2  Mozilla/5.0 (compatible; MSIE 9.0; Windows NT ...   \n",
       "3  Mozilla/5.0 (Macintosh; Intel Mac OS X 10_8_0 ...   \n",
       "4  Opera/9.58.(X11; Linux x86_64; it-IT) Presto/2...   \n",
       "\n",
       "                           Company       Credit Card CC Exp Date  \\\n",
       "0                  Martinez-Herman  6011929061123406       02/20   \n",
       "1  Fletcher, Richards and Whitaker  3337758169645356       11/18   \n",
       "2       Simpson, Williams and Pham      675957666125       08/19   \n",
       "3  Williams, Marshall and Buchanan  6011578504430710       02/24   \n",
       "4        Brown, Watson and Andrews  6011456623207998       10/25   \n",
       "\n",
       "   CC Security Code                  CC Provider  \\\n",
       "0               900                 JCB 16 digit   \n",
       "1               561                   Mastercard   \n",
       "2               699                 JCB 16 digit   \n",
       "3               384                     Discover   \n",
       "4               678  Diners Club / Carte Blanche   \n",
       "\n",
       "                            Email                                     Job  \\\n",
       "0               pdunlap@yahoo.com  Scientist, product/process development   \n",
       "1              anthony41@reed.com                       Drilling engineer   \n",
       "2  amymiller@morales-harrison.com                Customer service manager   \n",
       "3     brent16@olson-robinson.info                       Drilling engineer   \n",
       "4     christopherwright@gmail.com                             Fine artist   \n",
       "\n",
       "        IP Address Language  Purchase Price  \n",
       "0  149.146.147.205       el           98.14  \n",
       "1     15.160.41.51       fr           70.73  \n",
       "2   132.207.160.22       de            0.95  \n",
       "3     30.250.74.19       es           78.04  \n",
       "4     24.140.33.94       es           77.82  "
      ]
     },
     "execution_count": 20,
     "metadata": {},
     "output_type": "execute_result"
    }
   ],
   "source": [
    "my_data = pd.read_csv('ecommerce _purchases')\n",
    "my_data.head()"
   ]
  },
  {
   "cell_type": "markdown",
   "id": "eb80d999",
   "metadata": {},
   "source": [
    "### 1. Check the datatype of each column"
   ]
  },
  {
   "cell_type": "code",
   "execution_count": 10,
   "id": "5395d513",
   "metadata": {},
   "outputs": [
    {
     "data": {
      "text/plain": [
       "Address              object\n",
       "Lot                  object\n",
       "AM or PM             object\n",
       "Browser Info         object\n",
       "Company              object\n",
       "Credit Card           int64\n",
       "CC Exp Date          object\n",
       "CC Security Code      int64\n",
       "CC Provider          object\n",
       "Email                object\n",
       "Job                  object\n",
       "IP Address           object\n",
       "Language             object\n",
       "Purchase Price      float64\n",
       "dtype: object"
      ]
     },
     "execution_count": 10,
     "metadata": {},
     "output_type": "execute_result"
    }
   ],
   "source": [
    "my_data.dtypes"
   ]
  },
  {
   "cell_type": "markdown",
   "id": "cd8f4b62",
   "metadata": {},
   "source": [
    "### 2.Check for null values in the dataset"
   ]
  },
  {
   "cell_type": "code",
   "execution_count": 15,
   "id": "78c8cd14",
   "metadata": {},
   "outputs": [
    {
     "data": {
      "text/plain": [
       "Address             0\n",
       "Lot                 0\n",
       "AM or PM            0\n",
       "Browser Info        0\n",
       "Company             0\n",
       "Credit Card         0\n",
       "CC Exp Date         0\n",
       "CC Security Code    0\n",
       "CC Provider         0\n",
       "Email               0\n",
       "Job                 0\n",
       "IP Address          0\n",
       "Language            0\n",
       "Purchase Price      0\n",
       "dtype: int64"
      ]
     },
     "execution_count": 15,
     "metadata": {},
     "output_type": "execute_result"
    }
   ],
   "source": [
    "my_data.isnull().sum()"
   ]
  },
  {
   "cell_type": "markdown",
   "id": "0fde7cd8",
   "metadata": {},
   "source": [
    "### 3. How many rows and columns"
   ]
  },
  {
   "cell_type": "code",
   "execution_count": 18,
   "id": "e27b4122",
   "metadata": {},
   "outputs": [
    {
     "data": {
      "text/plain": [
       "(10000, 14)"
      ]
     },
     "execution_count": 18,
     "metadata": {},
     "output_type": "execute_result"
    }
   ],
   "source": [
    "my_data.shape"
   ]
  },
  {
   "cell_type": "markdown",
   "id": "722b89e7",
   "metadata": {},
   "source": [
    "### 4. Higest and lowest purchase price"
   ]
  },
  {
   "cell_type": "code",
   "execution_count": 23,
   "id": "3f0a5aa7",
   "metadata": {},
   "outputs": [
    {
     "data": {
      "text/plain": [
       "99.99"
      ]
     },
     "execution_count": 23,
     "metadata": {},
     "output_type": "execute_result"
    }
   ],
   "source": [
    "my_data['Purchase Price'].max()"
   ]
  },
  {
   "cell_type": "code",
   "execution_count": 24,
   "id": "5c64076e",
   "metadata": {},
   "outputs": [
    {
     "data": {
      "text/plain": [
       "0.0"
      ]
     },
     "execution_count": 24,
     "metadata": {},
     "output_type": "execute_result"
    }
   ],
   "source": [
    "my_data['Purchase Price'].min()"
   ]
  },
  {
   "cell_type": "markdown",
   "id": "827dae08",
   "metadata": {},
   "source": [
    "### 5. Average purchase price"
   ]
  },
  {
   "cell_type": "code",
   "execution_count": 25,
   "id": "982e568b",
   "metadata": {},
   "outputs": [
    {
     "data": {
      "text/plain": [
       "50.34730200000025"
      ]
     },
     "execution_count": 25,
     "metadata": {},
     "output_type": "execute_result"
    }
   ],
   "source": [
    "my_data['Purchase Price'].mean()"
   ]
  },
  {
   "cell_type": "markdown",
   "id": "e85ecaea",
   "metadata": {},
   "source": [
    "### 6. How many people have french as thier language"
   ]
  },
  {
   "cell_type": "code",
   "execution_count": 34,
   "id": "fc053d77",
   "metadata": {},
   "outputs": [
    {
     "data": {
      "text/plain": [
       "1097"
      ]
     },
     "execution_count": 34,
     "metadata": {},
     "output_type": "execute_result"
    }
   ],
   "source": [
    "len(my_data[my_data['Language'] == 'fr'])"
   ]
  },
  {
   "cell_type": "markdown",
   "id": "7daf15b8",
   "metadata": {},
   "source": [
    "### 7. Job title that contain Engineer"
   ]
  },
  {
   "cell_type": "code",
   "execution_count": 53,
   "id": "012f5812",
   "metadata": {},
   "outputs": [
    {
     "data": {
      "text/plain": [
       "984"
      ]
     },
     "execution_count": 53,
     "metadata": {},
     "output_type": "execute_result"
    }
   ],
   "source": [
    "len(my_data[my_data['Job'].str.contains('engineer',case=False)])"
   ]
  },
  {
   "cell_type": "markdown",
   "id": "e3e83651",
   "metadata": {},
   "source": [
    "### 8. Find Email of the person with the IP Adress: 132.207.160.22"
   ]
  },
  {
   "cell_type": "code",
   "execution_count": 58,
   "id": "96c0ba29",
   "metadata": {},
   "outputs": [
    {
     "data": {
      "text/plain": [
       "2    amymiller@morales-harrison.com\n",
       "Name: Email, dtype: object"
      ]
     },
     "execution_count": 58,
     "metadata": {},
     "output_type": "execute_result"
    }
   ],
   "source": [
    "my_data[my_data['IP Address'] == '132.207.160.22']['Email']"
   ]
  },
  {
   "cell_type": "markdown",
   "id": "06946b69",
   "metadata": {},
   "source": [
    "### 9. How many people have mastercard as their card provider and made purchases above 50"
   ]
  },
  {
   "cell_type": "code",
   "execution_count": 78,
   "id": "17bc8074",
   "metadata": {},
   "outputs": [
    {
     "data": {
      "text/plain": [
       "405"
      ]
     },
     "execution_count": 78,
     "metadata": {},
     "output_type": "execute_result"
    }
   ],
   "source": [
    "len(my_data[(my_data['CC Provider']=='Mastercard') & (my_data['Purchase Price'] > 50)])"
   ]
  },
  {
   "cell_type": "markdown",
   "id": "cc0dc19c",
   "metadata": {},
   "source": [
    "### 10. Find the Email of the person with this Credit Card:4664825258997302"
   ]
  },
  {
   "cell_type": "code",
   "execution_count": 95,
   "id": "c05978c7",
   "metadata": {},
   "outputs": [
    {
     "data": {
      "text/plain": [
       "9992    bberry@wright.net\n",
       "Name: Email, dtype: object"
      ]
     },
     "execution_count": 95,
     "metadata": {},
     "output_type": "execute_result"
    }
   ],
   "source": [
    "my_data[my_data['Credit Card']==4664825258997302 ]['Email']"
   ]
  },
  {
   "cell_type": "markdown",
   "id": "c4f97cb8",
   "metadata": {},
   "source": [
    "### 11. How many people purchase in AM and at PM"
   ]
  },
  {
   "cell_type": "code",
   "execution_count": 110,
   "id": "e4eced89",
   "metadata": {},
   "outputs": [
    {
     "data": {
      "text/plain": [
       "PM    5068\n",
       "AM    4932\n",
       "Name: AM or PM, dtype: int64"
      ]
     },
     "execution_count": 110,
     "metadata": {},
     "output_type": "execute_result"
    }
   ],
   "source": [
    "my_data['AM or PM'].value_counts()"
   ]
  },
  {
   "cell_type": "markdown",
   "id": "378fcbc8",
   "metadata": {},
   "source": [
    "### 14. How many people have credit card that expires in 2020"
   ]
  },
  {
   "cell_type": "code",
   "execution_count": 125,
   "id": "9dbf3979",
   "metadata": {},
   "outputs": [],
   "source": [
    "# Using my custom function\n",
    "\n",
    "def exp_date():\n",
    "    count = 0\n",
    "    for date in my_data['CC Exp Date']:\n",
    "        if date.split('/')[1] == '20':\n",
    "            count = count+1\n",
    "    print(count)        \n",
    "        \n",
    "   "
   ]
  },
  {
   "cell_type": "code",
   "execution_count": 126,
   "id": "bf8d2176",
   "metadata": {},
   "outputs": [
    {
     "name": "stdout",
     "output_type": "stream",
     "text": [
      "988\n"
     ]
    }
   ],
   "source": [
    "exp_date()"
   ]
  },
  {
   "cell_type": "code",
   "execution_count": 131,
   "id": "6ce035ce",
   "metadata": {},
   "outputs": [
    {
     "data": {
      "text/plain": [
       "988"
      ]
     },
     "execution_count": 131,
     "metadata": {},
     "output_type": "execute_result"
    }
   ],
   "source": [
    "# Using my apply and lambda function\n",
    "len(my_data[my_data['CC Exp Date'].apply(lambda x:x[3:]) == '20'])"
   ]
  },
  {
   "cell_type": "markdown",
   "id": "df86133c",
   "metadata": {},
   "source": [
    "### 15. Top five most popular email provider"
   ]
  },
  {
   "cell_type": "code",
   "execution_count": 141,
   "id": "8fad4ecb",
   "metadata": {},
   "outputs": [
    {
     "data": {
      "text/plain": [
       "hotmail.com     1638\n",
       "yahoo.com       1616\n",
       "gmail.com       1605\n",
       "smith.com         42\n",
       "williams.com      37\n",
       "Name: Email, dtype: int64"
      ]
     },
     "execution_count": 141,
     "metadata": {},
     "output_type": "execute_result"
    }
   ],
   "source": [
    "my_data['Email'].apply(lambda x:x.split('@')[1]).value_counts().head()"
   ]
  },
  {
   "cell_type": "code",
   "execution_count": null,
   "id": "74e8abac",
   "metadata": {},
   "outputs": [],
   "source": []
  }
 ],
 "metadata": {
  "kernelspec": {
   "display_name": "Python 3",
   "language": "python",
   "name": "python3"
  },
  "language_info": {
   "codemirror_mode": {
    "name": "ipython",
    "version": 3
   },
   "file_extension": ".py",
   "mimetype": "text/x-python",
   "name": "python",
   "nbconvert_exporter": "python",
   "pygments_lexer": "ipython3",
   "version": "3.8.8"
  }
 },
 "nbformat": 4,
 "nbformat_minor": 5
}
